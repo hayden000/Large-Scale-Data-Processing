{
 "cells": [
  {
   "cell_type": "markdown",
   "metadata": {
    "application/vnd.databricks.v1+cell": {
     "inputWidgets": {},
     "nuid": "c31f381f-888d-47ad-a118-3bb9818087db",
     "showTitle": false,
     "title": ""
    }
   },
   "source": [
    "## Question 1: Regular Expressions\n",
    "Write a regular expression pattern matching a _valid URL_. For the purposes of this exercise, a valid URL is any string of the form `protocol://domain/optional_file_path/optional_file_name`, where\n",
    "\n",
    "   * `protocol` is one of `file`, `http`, `https`, or `ftp`.\n",
    "   * `domain` is a sequence of labels separated by a single `.` (dot) character where each label is a combination of alphanumeric (i.e., both letters and numbers) characters in either lower or upper case, and the rightmost label representing the top-level domain is not all numbers.\n",
    "   * `optional_file_path` is a (potentially empty) sequence of labels separated by a `/` (forward slash) character, where each label is a combination of alphanumeric characters in either lower or upper case, and hyphens (`-`).\n",
    "   * `optional_file_name` is a sequence of labels (of length at most 2) separated by a `.` (dot) character, where each label is a combination of alphanumeric characters in either lower or upper case and hyphens (`-`).\n",
    "\n",
    "For example all of the following strings are valid URLs: https://my.Domain.com/some/file.html, ftp://com/my-file.json, http://123.456.12a/, http://bigdata and http://cs5234.rhul.ac.uk/sub-dir/ , whereas http://234.345, http://rhul.ac.uk/my.long.filename.html, http://.bigdata/, and http://big..data are not."
   ]
  },
  {
   "cell_type": "code",
   "execution_count": 1,
   "metadata": {
    "ExecuteTime": {
     "end_time": "2024-02-04T15:34:05.559660Z",
     "start_time": "2024-02-04T15:34:05.535364Z"
    },
    "application/vnd.databricks.v1+cell": {
     "inputWidgets": {},
     "nuid": "b93b2645-d5ca-403d-80a4-4582b971f231",
     "showTitle": false,
     "title": ""
    },
    "metadata": {}
   },
   "outputs": [
    {
     "name": "stdout",
     "output_type": "stream",
     "text": [
      "<re.Match object; span=(0, 36), match='https://my.Domain.com/some/file.html'>\n",
      "<re.Match object; span=(0, 22), match='ftp://com/my-file.json'>\n",
      "<re.Match object; span=(0, 19), match='http://123.456.12a/'>\n",
      "<re.Match object; span=(0, 14), match='http://bigdata'>\n",
      "<re.Match object; span=(0, 32), match='http://cs5234.rhul.ac.uk/sub-dir'>\n",
      "None\n",
      "None\n",
      "None\n",
      "None\n"
     ]
    },
    {
     "name": "stderr",
     "output_type": "stream",
     "text": [
      "<>:4: SyntaxWarning: invalid escape sequence '\\/'\n",
      "<>:4: SyntaxWarning: invalid escape sequence '\\/'\n",
      "C:\\Users\\sukan\\AppData\\Local\\Temp\\ipykernel_22516\\2764391274.py:4: SyntaxWarning: invalid escape sequence '\\/'\n",
      "  url_regex = '^(file|http|https|ftp):\\/\\/([a-zA-Z0-9]+)+((\\.[a-zA-Z0-9]+)*(\\.[a-zA-Z0-9]+[a-zA-Z]+))?(\\/[a-zA-Z0-9\\-]+)*(\\.[a-zA-Z]+)?\\/?'\n"
     ]
    }
   ],
   "source": [
    "import re\n",
    "\n",
    "# Put your pattern inside ''\n",
    "url_regex = '^(file|http|https|ftp):\\/\\/([a-zA-Z0-9]+)+((\\.[a-zA-Z0-9]+)*(\\.[a-zA-Z0-9]+[a-zA-Z]+))?(\\/[a-zA-Z0-9\\-]+)*(\\.[a-zA-Z]+)?\\/?'\n",
    "valid_tests = ['https://my.Domain.com/some/file.html', 'ftp://com/my-file.json', 'http://123.456.12a/',\n",
    "               'http://bigdata', 'http://cs5234.rhul.ac.uk/sub-dir']\n",
    "invalid_tests = ['http://234.345', 'http://rhul.ac.uk/my.long.filename.html', 'http://.bigdata/', 'http://big..data']\n",
    "\n",
    "for s in valid_tests:\n",
    "    print(re.compile(url_regex).fullmatch(s))\n",
    "\n",
    "for s in invalid_tests:\n",
    "    print(re.compile(url_regex).fullmatch(s))"
   ]
  },
  {
   "cell_type": "markdown",
   "metadata": {
    "application/vnd.databricks.v1+cell": {
     "inputWidgets": {},
     "nuid": "969bb12c-16bf-4f2c-9dd2-8077918892f6",
     "showTitle": false,
     "title": ""
    }
   },
   "source": [
    "Your solution is correct if the value returned by `re.compile(url_regex).fullmatch(s)` is not\n",
    "`None` for every string `s`, which is a valid URL according to \n",
    "the definition above, and `None`, otherwise. *N.B. The tests in `valid_tests` and `invalid_tests` are given for the sake of example only and passing them is a necessary but not sufficient condition to receive full marks!* We will perform more exhaustive tests based on the definition above that your solution must also be able to handle."
   ]
  },
  {
   "cell_type": "markdown",
   "metadata": {
    "application/vnd.databricks.v1+cell": {
     "inputWidgets": {},
     "nuid": "0a10b855-b2df-4f0b-9acc-e46c984b1de0",
     "showTitle": false,
     "title": ""
    }
   },
   "source": [
    "## Question 2: Regular Expressions\n",
    "Write a regular expression pattern matching any string consisting of non-empty _fields_ separated by _commas_. A field may include any printable characters except whitespaces and commas. \n",
    "A valid string must start and end with a field. \n",
    "For example, the strings `'ab1c,de_f,xyz'`, `'ab1c,de_%^f,xyz'`, `abc` \n",
    "are  valid whereas the strings `'ab1c,, de_f'` and \n",
    "`'ab1c,de_f, xyz,'` are not."
   ]
  },
  {
   "cell_type": "code",
   "execution_count": 24,
   "metadata": {
    "ExecuteTime": {
     "end_time": "2024-02-04T15:34:05.570579Z",
     "start_time": "2024-02-04T15:34:05.538109Z"
    },
    "application/vnd.databricks.v1+cell": {
     "inputWidgets": {},
     "nuid": "b2e3d7a4-87d5-47c0-84b5-aacf66fb8ecd",
     "showTitle": false,
     "title": ""
    }
   },
   "outputs": [
    {
     "name": "stdout",
     "output_type": "stream",
     "text": [
      "<re.Match object; span=(0, 13), match='ab1c,de_f,xyz'>\n",
      "<re.Match object; span=(0, 15), match='ab1c,de_%^f,xyz'>\n",
      "<re.Match object; span=(0, 3), match='abc'>\n",
      "None\n",
      "None\n"
     ]
    }
   ],
   "source": [
    "# Put your pattern inside ''\n",
    "csv_regex = '^([^\\s,]+)(\\,?[^\\s,]+)*'\n",
    "valid_tests = ['ab1c,de_f,xyz', 'ab1c,de_%^f,xyz', 'abc']\n",
    "invalid_tests = ['ab1c,, de_f', 'ab1c,de_f, xyz,']\n",
    "\n",
    "for s in valid_tests:\n",
    "    print(re.compile(csv_regex).fullmatch(s))\n",
    "\n",
    "for s in invalid_tests:\n",
    "    print(re.compile(csv_regex).fullmatch(s))"
   ]
  },
  {
   "cell_type": "markdown",
   "metadata": {
    "application/vnd.databricks.v1+cell": {
     "inputWidgets": {},
     "nuid": "e42f2303-8160-47d5-a5e5-2254d83504f4",
     "showTitle": false,
     "title": ""
    }
   },
   "source": [
    "Your solution is correct if the value returned by `re.compile(csv_regex).fullmatch(s)` is not\n",
    "`None` for every string `s`, which is valid according to \n",
    "the definition above, and `None`, otherwise. *N.B. The tests in `valid_tests` and `invalid_tests` are given for the sake of example only and passing them is a necessary but not sufficient condition to receive full marks!*. We will perform more exhaustive tests based on the definition above that your solution must also be able to handle."
   ]
  },
  {
   "cell_type": "markdown",
   "metadata": {
    "application/vnd.databricks.v1+cell": {
     "inputWidgets": {},
     "nuid": "fd294ae2-cef5-4eb9-93ca-c78a1d90011d",
     "showTitle": false,
     "title": ""
    }
   },
   "source": [
    "## Question 3: Generator Functions\n",
    "Write a generator function `gen_running_count_from_csv_string(s)` that takes a string `s` matching the regular expression pattern described by `csv_regex` as argument and produces, based on the fields extracted from `s`, a running count of the number of fields in `s` that contain a digit. For example, `gen_running_count_from_csv_string('ab1c,de_f,xy4z5b6')` will return the sequence \n",
    "`1`, `1`, `2`"
   ]
  },
  {
   "cell_type": "code",
   "execution_count": 25,
   "metadata": {
    "ExecuteTime": {
     "end_time": "2024-02-04T15:34:05.570734Z",
     "start_time": "2024-02-04T15:34:05.542429Z"
    },
    "application/vnd.databricks.v1+cell": {
     "inputWidgets": {},
     "nuid": "66d10e9a-7c15-4d73-a8c7-6b187f500131",
     "showTitle": false,
     "title": ""
    }
   },
   "outputs": [],
   "source": [
    "'''\n",
    "s: a string matching the pattern stored in csv_regex\n",
    "Returns a running count of fields containing a digit \n",
    "\n",
    "Replace pass with your code\n",
    "'''\n",
    "import re\n",
    "\n",
    "s = 'ab1c,de_f,xy4z5b6'\n",
    "running_count = 0\n",
    "item = 0\n",
    "\n",
    "\n",
    "def gen_running_count_from_csv_string(s):\n",
    "    global running_count\n",
    "    global item\n",
    "    for i in range(0, len(re.split(\",\", s))):\n",
    "        if re.search(r'\\d', re.split(\",\", s)[item]):\n",
    "            running_count = running_count + 1\n",
    "        item = item + 1\n",
    "        yield running_count\n",
    "\n",
    "\n",
    "# tester \n",
    "\n",
    "# test = []\n",
    "# for i in range(0, len(re.split(\",\", s))):\n",
    "#     test.append(next(gen_running_count_from_csv_string('ab1c,de_f,xy4z5b6')))\n",
    "# if test == [1, 1, 2]:\n",
    "#     print(\"test passed\")\n",
    "# else:\n",
    "#     print(\"failed\", test)"
   ]
  },
  {
   "cell_type": "markdown",
   "metadata": {
    "application/vnd.databricks.v1+cell": {
     "inputWidgets": {},
     "nuid": "e0d3de6b-29fa-4330-9794-82bce117c52f",
     "showTitle": false,
     "title": ""
    }
   },
   "source": [
    "## Question 4: Lambda Expressions\n",
    "Write the following lambda expressions:\n",
    "1. `valid_url`: takes a string `s` as argument and returns `True` if `s` \n",
    "matches `url_regex`, and `False`, otherwise\n",
    "2. `concat_csv_strings`: takes two strings `s1` and `s2` as arguments and \n",
    "returns a single string consisting of `s1` and `s2` separated by comma. For example, if\n",
    "the strings\n",
    "`'ab1c,de_f,xyz'` and `'ab1c,de_%^f,xyz'` are given as arguments, the output must be the string\n",
    "`'ab1c,de_f,xyz,ab1c,de_%^f,xyz'`\n",
    "3. `val_by_vec`: takes an object `x` and a sequence of objects `seq`, and returns a sequence\n",
    "(i.e., an iterator) of tuples `(x, t[0]), (x, t[1]), ...`.<br>\n",
    "_Hint_: Use a generator expression.\n",
    "4. `not_self_loop`: takes a 2-tuple `(a, b)` and returns `True` if `a != b` and `False`, otherwise."
   ]
  },
  {
   "cell_type": "code",
   "execution_count": 26,
   "metadata": {
    "ExecuteTime": {
     "end_time": "2024-02-04T15:34:05.570809Z",
     "start_time": "2024-02-04T15:34:05.546192Z"
    },
    "application/vnd.databricks.v1+cell": {
     "inputWidgets": {},
     "nuid": "dc74e419-5d85-4670-b6d5-7a1c4fc1c67b",
     "showTitle": false,
     "title": ""
    }
   },
   "outputs": [],
   "source": [
    "# Replace the right-hand side of each lambda with your code\n",
    "\n",
    "# function1\n",
    "\n",
    "valid_url = lambda s: True if re.compile(url_regex).fullmatch(s) else False\n",
    "\n",
    "# function 1 tester\n",
    "# valid_tests = ['https://my.Domain.com/some/file.html', 'ftp://com/my-file.json', 'http://123.456.12a/',\n",
    "#                'http://bigdata', 'http://cs5234.rhul.ac.uk/sub-dir']\n",
    "# invalid_tests = ['http://234.345', 'http://rhul.ac.uk/my.long.filename.html', 'http://.bigdata/', 'http://big..data']\n",
    "# passed = True\n",
    "# for i in valid_tests:\n",
    "#   if valid_url(i) != True:\n",
    "#     passed = False\n",
    "# for i in invalid_tests:\n",
    "#   if valid_url(i) == True:\n",
    "#     print(\"invalid\",i)\n",
    "#     passed = False\n",
    "# if passed == True:\n",
    "#     print(\"1 passed\")\n",
    "# else:\n",
    "#     print(\"1 failed\")\n",
    "\n",
    "# function 2\n",
    "\n",
    "concat_csv_strings = lambda s1, s2: f\"{s1},{s2}\"\n",
    "\n",
    "# function 2 tester \n",
    "# \n",
    "# s1 = 'ab1c,de_f,xyz'\n",
    "# s2 = 'ab1c,de_%^f,xyz'\n",
    "# con = concat_csv_strings(s1, s2)\n",
    "# if con == 'ab1c,de_f,xyz,ab1c,de_%^f,xyz':\n",
    "#     print(\"2 passed\")\n",
    "# else:\n",
    "#     print(\"2 failed\", con)\n",
    "\n",
    "# function 3 \n",
    "\n",
    "val_by_vec = lambda x, t: ((x, t) for t in seq)\n",
    "\n",
    "# function 3 tester \n",
    "# \n",
    "# x = \"x\"\n",
    "# seq = [0, 1, 2, 3, 4, 5, 6, 7, 8, 9]\n",
    "# test = []\n",
    "# for t in val_by_vec(x, seq):\n",
    "#     test.append(t)\n",
    "# if test == [('x', 0), ('x', 1), ('x', 2), ('x', 3), ('x', 4), ('x', 5), ('x', 6), ('x', 7), ('x', 8), ('x', 9)]:\n",
    "#     print(\"3 passed\")\n",
    "# else:\n",
    "#     print(\"3 failed\", test)\n",
    "\n",
    "# function 4\n",
    "\n",
    "not_self_loop = lambda t: True if not (t[0] == t[1]) else False\n",
    "\n",
    "# function 4 tester \n",
    "\n",
    "# t = (\"a\", \"b\")\n",
    "# if not_self_loop(t) == True:\n",
    "#     print(\"4 passed\")\n",
    "# else:\n",
    "#     print(\"4 failed\")"
   ]
  }
 ],
 "metadata": {
  "application/vnd.databricks.v1+notebook": {
   "dashboards": [],
   "language": "python",
   "notebookName": "2021-CS5234-A1",
   "notebookOrigID": 854954857924556,
   "widgets": {}
  },
  "kernelspec": {
   "display_name": "Python 3 (ipykernel)",
   "language": "python",
   "name": "python3"
  },
  "language_info": {
   "codemirror_mode": {
    "name": "ipython",
    "version": 3
   },
   "file_extension": ".py",
   "mimetype": "text/x-python",
   "name": "python",
   "nbconvert_exporter": "python",
   "pygments_lexer": "ipython3",
   "version": "3.12.1"
  }
 },
 "nbformat": 4,
 "nbformat_minor": 4
}
